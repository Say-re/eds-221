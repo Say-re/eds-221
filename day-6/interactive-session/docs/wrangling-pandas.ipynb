{
 "cells": [
  {
   "cell_type": "code",
   "execution_count": 15,
   "id": "cb29f243-dadf-4259-9200-ab4018f7bea3",
   "metadata": {},
   "outputs": [
    {
     "data": {
      "text/plain": [
       "<bound method NDFrame.head of                                            Country Name Country Code  \\\n",
       "0                                           Afghanistan          AFG   \n",
       "1                                           Afghanistan          AFG   \n",
       "2                                           Afghanistan          AFG   \n",
       "3                                           Afghanistan          AFG   \n",
       "4                                           Afghanistan          AFG   \n",
       "...                                                 ...          ...   \n",
       "26695                                               NaN          NaN   \n",
       "26696                                               NaN          NaN   \n",
       "26697                                               NaN          NaN   \n",
       "26698  Data from database: World Development Indicators          NaN   \n",
       "26699                          Last Updated: 07/21/2021          NaN   \n",
       "\n",
       "                                             Series Name        Series Code  \\\n",
       "0      Access to clean fuels and technologies for coo...     EG.CFT.ACCS.ZS   \n",
       "1                Access to electricity (% of population)     EG.ELC.ACCS.ZS   \n",
       "2                                     CO2 emissions (kt)     EN.ATM.CO2E.KT   \n",
       "3            Fossil fuel energy consumption (% of total)  EG.USE.COMM.FO.ZS   \n",
       "4      Level of water stress: freshwater withdrawal a...     ER.H2O.FWST.ZS   \n",
       "...                                                  ...                ...   \n",
       "26695                                                NaN                NaN   \n",
       "26696                                                NaN                NaN   \n",
       "26697                                                NaN                NaN   \n",
       "26698                                                NaN                NaN   \n",
       "26699                                                NaN                NaN   \n",
       "\n",
       "                year  indicator_value  \n",
       "0      2001 [YR2001]             9.51  \n",
       "1      2001 [YR2001]              NaN  \n",
       "2      2001 [YR2001]           810.00  \n",
       "3      2001 [YR2001]              NaN  \n",
       "4      2001 [YR2001]              NaN  \n",
       "...              ...              ...  \n",
       "26695  2020 [YR2020]              NaN  \n",
       "26696  2020 [YR2020]              NaN  \n",
       "26697  2020 [YR2020]              NaN  \n",
       "26698  2020 [YR2020]              NaN  \n",
       "26699  2020 [YR2020]              NaN  \n",
       "\n",
       "[26700 rows x 6 columns]>"
      ]
     },
     "execution_count": 15,
     "metadata": {},
     "output_type": "execute_result"
    }
   ],
   "source": [
    "import pandas as pd\n",
    "\n",
    "# *** PART 1: DATA WRANGLING *** #\n",
    "\n",
    "# Read in data sets\n",
    "wb_indicators = pd.read_csv('../data/wb_indicators.csv', na_values = '..')\n",
    "wb_metadata = pd.read_csv('../data/wb_indicators_metadata.csv')\n",
    "\n",
    "# Transform data into tidy format\n",
    "wb_indicators_long = wb_indicators.melt(id_vars = ['Country Name', 'Country Code', 'Series Name', 'Series Code'],\n",
    "                                        var_name = 'year',\n",
    "                                        value_name = 'indicator_value')\n",
    "\n",
    "# View updated table\n",
    "wb_indicators_long.head"
   ]
  },
  {
   "cell_type": "code",
   "execution_count": 16,
   "id": "5a33fd7e-9cf9-4693-9ecd-c58e57e4c6e5",
   "metadata": {},
   "outputs": [
    {
     "data": {
      "text/plain": [
       "(26700, 6)"
      ]
     },
     "execution_count": 16,
     "metadata": {},
     "output_type": "execute_result"
    }
   ],
   "source": [
    "# Determine dimensions\n",
    "wb_indicators_long.shape"
   ]
  },
  {
   "cell_type": "code",
   "execution_count": 17,
   "id": "457e89d2-1666-4d18-a16f-89da8e31ee5a",
   "metadata": {},
   "outputs": [
    {
     "data": {
      "text/plain": [
       "['Country Name',\n",
       " 'Country Code',\n",
       " 'Series Name',\n",
       " 'Series Code',\n",
       " 'year',\n",
       " 'indicator_value',\n",
       " 'year_code']"
      ]
     },
     "execution_count": 17,
     "metadata": {},
     "output_type": "execute_result"
    }
   ],
   "source": [
    "# Clean up year column to isolate year from year code\n",
    "wb_indicators_long[['year', 'year_code']] = wb_indicators_long.year.str.split(expand = True)\n",
    "\n",
    "list(wb_indicators_long)"
   ]
  },
  {
   "cell_type": "code",
   "execution_count": 18,
   "id": "e2b906ba-e3c8-4189-8b42-0a63f599cae8",
   "metadata": {},
   "outputs": [
    {
     "data": {
      "text/plain": [
       "['Country Name', 'Series Name', 'year', 'indicator_value']"
      ]
     },
     "execution_count": 18,
     "metadata": {},
     "output_type": "execute_result"
    }
   ],
   "source": [
    "wb_data_clean = wb_indicators_long.drop(['Country Code', 'Series Code', 'year_code'], axis = 1)\n",
    "list(wb_data_clean)"
   ]
  },
  {
   "cell_type": "code",
   "execution_count": 25,
   "id": "2f913499-6553-4ac9-9ac2-f210911877cd",
   "metadata": {},
   "outputs": [
    {
     "data": {
      "text/html": [
       "<div>\n",
       "<style scoped>\n",
       "    .dataframe tbody tr th:only-of-type {\n",
       "        vertical-align: middle;\n",
       "    }\n",
       "\n",
       "    .dataframe tbody tr th {\n",
       "        vertical-align: top;\n",
       "    }\n",
       "\n",
       "    .dataframe thead th {\n",
       "        text-align: right;\n",
       "    }\n",
       "</style>\n",
       "<table border=\"1\" class=\"dataframe\">\n",
       "  <thead>\n",
       "    <tr style=\"text-align: right;\">\n",
       "      <th>Series Name</th>\n",
       "      <th>Country Name</th>\n",
       "      <th>year</th>\n",
       "      <th>Access to clean fuels and technologies for cooking (% of population)</th>\n",
       "      <th>Access to electricity (% of population)</th>\n",
       "      <th>CO2 emissions (kt)</th>\n",
       "      <th>Fossil fuel energy consumption (% of total)</th>\n",
       "      <th>Level of water stress: freshwater withdrawal as a proportion of available freshwater resources</th>\n",
       "    </tr>\n",
       "  </thead>\n",
       "  <tbody>\n",
       "    <tr>\n",
       "      <th>0</th>\n",
       "      <td>Afghanistan</td>\n",
       "      <td>2001</td>\n",
       "      <td>9.51</td>\n",
       "      <td>NaN</td>\n",
       "      <td>810.0</td>\n",
       "      <td>NaN</td>\n",
       "      <td>NaN</td>\n",
       "    </tr>\n",
       "    <tr>\n",
       "      <th>1</th>\n",
       "      <td>Afghanistan</td>\n",
       "      <td>2002</td>\n",
       "      <td>10.39</td>\n",
       "      <td>NaN</td>\n",
       "      <td>1100.0</td>\n",
       "      <td>NaN</td>\n",
       "      <td>54.757019</td>\n",
       "    </tr>\n",
       "    <tr>\n",
       "      <th>2</th>\n",
       "      <td>Afghanistan</td>\n",
       "      <td>2003</td>\n",
       "      <td>11.46</td>\n",
       "      <td>NaN</td>\n",
       "      <td>1350.0</td>\n",
       "      <td>NaN</td>\n",
       "      <td>NaN</td>\n",
       "    </tr>\n",
       "    <tr>\n",
       "      <th>3</th>\n",
       "      <td>Afghanistan</td>\n",
       "      <td>2004</td>\n",
       "      <td>12.43</td>\n",
       "      <td>NaN</td>\n",
       "      <td>1130.0</td>\n",
       "      <td>NaN</td>\n",
       "      <td>NaN</td>\n",
       "    </tr>\n",
       "    <tr>\n",
       "      <th>4</th>\n",
       "      <td>Afghanistan</td>\n",
       "      <td>2005</td>\n",
       "      <td>13.49</td>\n",
       "      <td>22.295269</td>\n",
       "      <td>1640.0</td>\n",
       "      <td>NaN</td>\n",
       "      <td>NaN</td>\n",
       "    </tr>\n",
       "  </tbody>\n",
       "</table>\n",
       "</div>"
      ],
      "text/plain": [
       "Series Name Country Name  year  \\\n",
       "0            Afghanistan  2001   \n",
       "1            Afghanistan  2002   \n",
       "2            Afghanistan  2003   \n",
       "3            Afghanistan  2004   \n",
       "4            Afghanistan  2005   \n",
       "\n",
       "Series Name  Access to clean fuels and technologies for cooking (% of population)  \\\n",
       "0                                                         9.51                      \n",
       "1                                                        10.39                      \n",
       "2                                                        11.46                      \n",
       "3                                                        12.43                      \n",
       "4                                                        13.49                      \n",
       "\n",
       "Series Name  Access to electricity (% of population)  CO2 emissions (kt)  \\\n",
       "0                                                NaN               810.0   \n",
       "1                                                NaN              1100.0   \n",
       "2                                                NaN              1350.0   \n",
       "3                                                NaN              1130.0   \n",
       "4                                          22.295269              1640.0   \n",
       "\n",
       "Series Name  Fossil fuel energy consumption (% of total)  \\\n",
       "0                                                    NaN   \n",
       "1                                                    NaN   \n",
       "2                                                    NaN   \n",
       "3                                                    NaN   \n",
       "4                                                    NaN   \n",
       "\n",
       "Series Name  Level of water stress: freshwater withdrawal as a proportion of available freshwater resources  \n",
       "0                                                          NaN                                               \n",
       "1                                                    54.757019                                               \n",
       "2                                                          NaN                                               \n",
       "3                                                          NaN                                               \n",
       "4                                                          NaN                                               "
      ]
     },
     "execution_count": 25,
     "metadata": {},
     "output_type": "execute_result"
    }
   ],
   "source": [
    "# Convert indicators to variables\n",
    "wb_data_tidy = wb_data_clean.pivot_table(index = ['Country Name', 'year'],\n",
    "                                         columns = 'Series Name',\n",
    "                                         values = 'indicator_value')\n",
    "# Reset indexes back to normal column entries\n",
    "wb_data_tidy = wb_data_tidy.reset_index()\n",
    "\n",
    "# Review data\n",
    "wb_data_tidy.head()"
   ]
  },
  {
   "cell_type": "code",
   "execution_count": 26,
   "id": "9d898730-fa72-4417-8f6a-efc3cc91375d",
   "metadata": {},
   "outputs": [
    {
     "data": {
      "text/html": [
       "<div>\n",
       "<style scoped>\n",
       "    .dataframe tbody tr th:only-of-type {\n",
       "        vertical-align: middle;\n",
       "    }\n",
       "\n",
       "    .dataframe tbody tr th {\n",
       "        vertical-align: top;\n",
       "    }\n",
       "\n",
       "    .dataframe thead th {\n",
       "        text-align: right;\n",
       "    }\n",
       "</style>\n",
       "<table border=\"1\" class=\"dataframe\">\n",
       "  <thead>\n",
       "    <tr style=\"text-align: right;\">\n",
       "      <th>Series Name</th>\n",
       "      <th>country</th>\n",
       "      <th>year</th>\n",
       "      <th>access_fuels_pp</th>\n",
       "      <th>access_electricity_pp</th>\n",
       "      <th>co2_emissions_kt</th>\n",
       "      <th>fossil_fuel_consumption_pt</th>\n",
       "      <th>water_stress</th>\n",
       "    </tr>\n",
       "  </thead>\n",
       "  <tbody>\n",
       "    <tr>\n",
       "      <th>0</th>\n",
       "      <td>Afghanistan</td>\n",
       "      <td>2001</td>\n",
       "      <td>9.51</td>\n",
       "      <td>NaN</td>\n",
       "      <td>810.0</td>\n",
       "      <td>NaN</td>\n",
       "      <td>NaN</td>\n",
       "    </tr>\n",
       "    <tr>\n",
       "      <th>1</th>\n",
       "      <td>Afghanistan</td>\n",
       "      <td>2002</td>\n",
       "      <td>10.39</td>\n",
       "      <td>NaN</td>\n",
       "      <td>1100.0</td>\n",
       "      <td>NaN</td>\n",
       "      <td>54.757019</td>\n",
       "    </tr>\n",
       "    <tr>\n",
       "      <th>2</th>\n",
       "      <td>Afghanistan</td>\n",
       "      <td>2003</td>\n",
       "      <td>11.46</td>\n",
       "      <td>NaN</td>\n",
       "      <td>1350.0</td>\n",
       "      <td>NaN</td>\n",
       "      <td>NaN</td>\n",
       "    </tr>\n",
       "    <tr>\n",
       "      <th>3</th>\n",
       "      <td>Afghanistan</td>\n",
       "      <td>2004</td>\n",
       "      <td>12.43</td>\n",
       "      <td>NaN</td>\n",
       "      <td>1130.0</td>\n",
       "      <td>NaN</td>\n",
       "      <td>NaN</td>\n",
       "    </tr>\n",
       "    <tr>\n",
       "      <th>4</th>\n",
       "      <td>Afghanistan</td>\n",
       "      <td>2005</td>\n",
       "      <td>13.49</td>\n",
       "      <td>22.295269</td>\n",
       "      <td>1640.0</td>\n",
       "      <td>NaN</td>\n",
       "      <td>NaN</td>\n",
       "    </tr>\n",
       "  </tbody>\n",
       "</table>\n",
       "</div>"
      ],
      "text/plain": [
       "Series Name      country  year  access_fuels_pp  access_electricity_pp  \\\n",
       "0            Afghanistan  2001             9.51                    NaN   \n",
       "1            Afghanistan  2002            10.39                    NaN   \n",
       "2            Afghanistan  2003            11.46                    NaN   \n",
       "3            Afghanistan  2004            12.43                    NaN   \n",
       "4            Afghanistan  2005            13.49              22.295269   \n",
       "\n",
       "Series Name  co2_emissions_kt  fossil_fuel_consumption_pt  water_stress  \n",
       "0                       810.0                         NaN           NaN  \n",
       "1                      1100.0                         NaN     54.757019  \n",
       "2                      1350.0                         NaN           NaN  \n",
       "3                      1130.0                         NaN           NaN  \n",
       "4                      1640.0                         NaN           NaN  "
      ]
     },
     "execution_count": 26,
     "metadata": {},
     "output_type": "execute_result"
    }
   ],
   "source": [
    "# Renaming columns from pivoting wider\n",
    "wb_data_tidy = wb_data_tidy.rename(columns = {\n",
    "    'Country Name': 'country',\n",
    "    'Access to clean fuels and technologies for cooking (% of population)': 'access_fuels_pp',\n",
    "    'Access to electricity (% of population)': 'access_electricity_pp',\n",
    "    'CO2 emissions (kt)': 'co2_emissions_kt',\n",
    "    'Fossil fuel energy consumption (% of total)': 'fossil_fuel_consumption_pt',\n",
    "    'Level of water stress: freshwater withdrawal as a proportion of available freshwater resources': 'water_stress'\n",
    "})\n",
    "wb_data_tidy.head()"
   ]
  },
  {
   "cell_type": "code",
   "execution_count": null,
   "id": "46b0b732-b22a-4368-85d7-febee0f27c3d",
   "metadata": {},
   "outputs": [],
   "source": []
  }
 ],
 "metadata": {
  "kernelspec": {
   "display_name": "Python 3 (ipykernel)",
   "language": "python",
   "name": "python3"
  },
  "language_info": {
   "codemirror_mode": {
    "name": "ipython",
    "version": 3
   },
   "file_extension": ".py",
   "mimetype": "text/x-python",
   "name": "python",
   "nbconvert_exporter": "python",
   "pygments_lexer": "ipython3",
   "version": "3.9.7"
  }
 },
 "nbformat": 4,
 "nbformat_minor": 5
}
