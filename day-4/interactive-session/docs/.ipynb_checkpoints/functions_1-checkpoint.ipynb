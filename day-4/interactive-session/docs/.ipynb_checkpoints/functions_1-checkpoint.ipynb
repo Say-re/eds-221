{
 "cells": [
  {
   "cell_type": "code",
   "execution_count": 3,
   "id": "dd682fcc-2060-414b-a751-0f6249e32c99",
   "metadata": {},
   "outputs": [
    {
     "data": {
      "text/plain": [
       "23"
      ]
     },
     "execution_count": 3,
     "metadata": {},
     "output_type": "execute_result"
    }
   ],
   "source": [
    "# Example from lecture\n",
    "def birddog_sum(bird, dog):\n",
    "    pets = bird + dog\n",
    "    return(pets)\n",
    "birddog_sum(20, 3)"
   ]
  },
  {
   "cell_type": "code",
   "execution_count": 9,
   "id": "30918b84-6c69-4059-b3a4-3d9ce1c98b72",
   "metadata": {},
   "outputs": [
    {
     "data": {
      "text/plain": [
       "[2, 20, 40, 2, 20, 40]"
      ]
     },
     "execution_count": 9,
     "metadata": {},
     "output_type": "execute_result"
    }
   ],
   "source": [
    "import numpy as np\n",
    "\n",
    "# Create doubler function\n",
    "def double_val(value):\n",
    "    return(value * 2)\n",
    "double_val(10)\n",
    "\n",
    "# Create vector (NumPy Array)\n",
    "samples = np.array([4, 1])\n",
    "\n",
    "# Function calls work on arrays/vectors\n",
    "double_val(samples)\n",
    "\n",
    "# Attempt on List\n",
    "# Note: It duplicates the list and adds to the end of the original, applies to lists and tuples\n",
    "samples_list = [2, 20, 40]\n",
    "double_val(samples_list)"
   ]
  },
  {
   "cell_type": "code",
   "execution_count": 10,
   "id": "0bf95390-46a3-4913-aa9c-696d1b8758eb",
   "metadata": {},
   "outputs": [
    {
     "name": "stdout",
     "output_type": "stream",
     "text": [
      "I am 200 years old!\n"
     ]
    }
   ],
   "source": [
    "# Create function that displays users age\n",
    "def display_age(age):\n",
    "    print(\"I am\", str(age), \"years old!\")\n",
    "    return\n",
    "\n",
    "display_age(200)"
   ]
  },
  {
   "cell_type": "code",
   "execution_count": 29,
   "id": "70daad96-70ed-42be-b9e1-c120dcf45edf",
   "metadata": {},
   "outputs": [
    {
     "name": "stdout",
     "output_type": "stream",
     "text": [
      "Invalid animal. Animal must be a dog or a goat.\n",
      "Invalid age value. Age must be a value between 0 and 100.\n",
      "Invalid age. Please enter a value greater than zero.\n"
     ]
    },
    {
     "data": {
      "text/plain": [
       "70"
      ]
     },
     "execution_count": 29,
     "metadata": {},
     "output_type": "execute_result"
    }
   ],
   "source": [
    "# Creating age conversion rate for animals and handling errors\n",
    "def animal_age(animal, age):\n",
    "    if not (animal in [\"dog\", \"goat\"]):\n",
    "        print(\"Invalid animal. Animal must be a dog or a goat.\")\n",
    "        return(None)\n",
    "    if type(age) != int:\n",
    "        print(\"Invalid age value. Age must be a value between 0 and 100.\")\n",
    "        return(None)\n",
    "    if age <= 0:\n",
    "        print(\"Invalid age. Please enter a value greater than zero.\")\n",
    "    if animal == \"dog\":\n",
    "        return(age * 7)\n",
    "    if animal == \"goat\":\n",
    "        return(age * 4.5)\n",
    "\n",
    "# Verify error handling invalid animal\n",
    "animal_age(\"dragon\", 100)\n",
    "# Verify error handling invalid age type\n",
    "animal_age(\"goat\", \"char\")\n",
    "# Verify error handling invalid age value\n",
    "animal_age(\"goat\", -10)\n",
    "animal_age(\"dog\", 10)"
   ]
  },
  {
   "cell_type": "code",
   "execution_count": null,
   "id": "75730cca-5dc0-49ef-ae3a-9834eebd6b78",
   "metadata": {},
   "outputs": [],
   "source": []
  },
  {
   "cell_type": "code",
   "execution_count": null,
   "id": "dbff2fce-eeda-41e2-9884-3e9e814eb934",
   "metadata": {},
   "outputs": [],
   "source": []
  }
 ],
 "metadata": {
  "kernelspec": {
   "display_name": "Python 3 (ipykernel)",
   "language": "python",
   "name": "python3"
  },
  "language_info": {
   "codemirror_mode": {
    "name": "ipython",
    "version": 3
   },
   "file_extension": ".py",
   "mimetype": "text/x-python",
   "name": "python",
   "nbconvert_exporter": "python",
   "pygments_lexer": "ipython3",
   "version": "3.9.7"
  }
 },
 "nbformat": 4,
 "nbformat_minor": 5
}
