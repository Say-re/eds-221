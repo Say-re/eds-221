{
 "cells": [
  {
   "cell_type": "code",
   "execution_count": 1,
   "id": "e663dacc-e4c9-4a2e-89d9-5854bdf856bf",
   "metadata": {},
   "outputs": [
    {
     "data": {
      "text/plain": [
       "array([1, 5, 8])"
      ]
     },
     "execution_count": 1,
     "metadata": {},
     "output_type": "execute_result"
    }
   ],
   "source": [
    "import numpy as np\n",
    "import pandas as pd\n",
    "\n",
    "iron_weight = [1,5,8]\n",
    "iron_weight_vec = np.array(iron_weight)\n",
    "\n",
    "iron_weight_vec"
   ]
  },
  {
   "cell_type": "code",
   "execution_count": 2,
   "id": "94db449d-ba75-43f6-b782-db292585c739",
   "metadata": {},
   "outputs": [
    {
     "data": {
      "text/plain": [
       "numpy.ndarray"
      ]
     },
     "execution_count": 2,
     "metadata": {},
     "output_type": "execute_result"
    }
   ],
   "source": [
    "type(iron_weight_vec)\n",
    "# Expect to be an array"
   ]
  },
  {
   "cell_type": "code",
   "execution_count": 3,
   "id": "006b4dd4-9ec3-42ae-be85-682cab491435",
   "metadata": {},
   "outputs": [
    {
     "data": {
      "text/plain": [
       "array([  1,   5, 100])"
      ]
     },
     "execution_count": 3,
     "metadata": {},
     "output_type": "execute_result"
    }
   ],
   "source": [
    "iron_weight_vec[2] = 100\n",
    "iron_weight_vec"
   ]
  },
  {
   "cell_type": "code",
   "execution_count": 4,
   "id": "57acfb70-ca33-4af5-9548-65799dee2e41",
   "metadata": {},
   "outputs": [
    {
     "data": {
      "text/plain": [
       "tuple"
      ]
     },
     "execution_count": 4,
     "metadata": {},
     "output_type": "execute_result"
    }
   ],
   "source": [
    "# Tuples in Python are immutable\n",
    "steel_weight = (2, 5, 13)\n",
    "type(steel_weight)"
   ]
  },
  {
   "cell_type": "code",
   "execution_count": 5,
   "id": "5fd8c032-34ab-4fd5-bfd9-f338cf2a6405",
   "metadata": {},
   "outputs": [
    {
     "data": {
      "text/plain": [
       "['bronze', 'iron', 'steel']"
      ]
     },
     "execution_count": 5,
     "metadata": {},
     "output_type": "execute_result"
    }
   ],
   "source": [
    "# Creating complicated lists directly with Python\n",
    "metal_weights = [[\"bronze\", \"iron\", \"steel\"], [100, 150, 200]]\n",
    "\n",
    "# Accessing individual pieces of a list\n",
    "metal_weights[0]"
   ]
  },
  {
   "cell_type": "code",
   "execution_count": 8,
   "id": "ccb9480b-d843-453a-a5b5-3cbc43404d91",
   "metadata": {},
   "outputs": [
    {
     "data": {
      "text/plain": [
       "[['bronze', 'iron', 'steel'], ['soft', 'medium', 'hard']]"
      ]
     },
     "execution_count": 8,
     "metadata": {},
     "output_type": "execute_result"
    }
   ],
   "source": [
    "# Lists are mutable\n",
    "metal_weights[1] = [\"soft\", \"medium\", \"hard\"]\n",
    "metal_weights"
   ]
  },
  {
   "cell_type": "code",
   "execution_count": 12,
   "id": "e83fd565-7562-4b19-b914-49d6f302de3b",
   "metadata": {},
   "outputs": [
    {
     "data": {
      "text/html": [
       "<div>\n",
       "<style scoped>\n",
       "    .dataframe tbody tr th:only-of-type {\n",
       "        vertical-align: middle;\n",
       "    }\n",
       "\n",
       "    .dataframe tbody tr th {\n",
       "        vertical-align: top;\n",
       "    }\n",
       "\n",
       "    .dataframe thead th {\n",
       "        text-align: right;\n",
       "    }\n",
       "</style>\n",
       "<table border=\"1\" class=\"dataframe\">\n",
       "  <thead>\n",
       "    <tr style=\"text-align: right;\">\n",
       "      <th></th>\n",
       "      <th>colors</th>\n",
       "      <th>names</th>\n",
       "    </tr>\n",
       "  </thead>\n",
       "  <tbody>\n",
       "    <tr>\n",
       "      <th>0</th>\n",
       "      <td>R</td>\n",
       "      <td>Red</td>\n",
       "    </tr>\n",
       "    <tr>\n",
       "      <th>1</th>\n",
       "      <td>YR</td>\n",
       "      <td>Yellow-Red</td>\n",
       "    </tr>\n",
       "    <tr>\n",
       "      <th>2</th>\n",
       "      <td>Y</td>\n",
       "      <td>Yellow</td>\n",
       "    </tr>\n",
       "    <tr>\n",
       "      <th>3</th>\n",
       "      <td>GY</td>\n",
       "      <td>Green-Yellow</td>\n",
       "    </tr>\n",
       "    <tr>\n",
       "      <th>4</th>\n",
       "      <td>G</td>\n",
       "      <td>Green</td>\n",
       "    </tr>\n",
       "    <tr>\n",
       "      <th>5</th>\n",
       "      <td>BG</td>\n",
       "      <td>Blue-Green</td>\n",
       "    </tr>\n",
       "    <tr>\n",
       "      <th>6</th>\n",
       "      <td>B</td>\n",
       "      <td>Blue</td>\n",
       "    </tr>\n",
       "    <tr>\n",
       "      <th>7</th>\n",
       "      <td>PB</td>\n",
       "      <td>Purple-Blue</td>\n",
       "    </tr>\n",
       "    <tr>\n",
       "      <th>8</th>\n",
       "      <td>P</td>\n",
       "      <td>Purple</td>\n",
       "    </tr>\n",
       "    <tr>\n",
       "      <th>9</th>\n",
       "      <td>RP</td>\n",
       "      <td>Red-Purple</td>\n",
       "    </tr>\n",
       "  </tbody>\n",
       "</table>\n",
       "</div>"
      ],
      "text/plain": [
       "  colors         names\n",
       "0      R           Red\n",
       "1     YR    Yellow-Red\n",
       "2      Y        Yellow\n",
       "3     GY  Green-Yellow\n",
       "4      G         Green\n",
       "5     BG    Blue-Green\n",
       "6      B          Blue\n",
       "7     PB   Purple-Blue\n",
       "8      P        Purple\n",
       "9     RP    Red-Purple"
      ]
     },
     "execution_count": 12,
     "metadata": {},
     "output_type": "execute_result"
    }
   ],
   "source": [
    "# Making a Data Frame with Pandas Library\n",
    "color_theory = {\n",
    "    \"colors\": [\"R\", \"YR\", \"Y\", \"GY\", \"G\", \"BG\", \"B\", \"PB\", \"P\", \"RP\"],\n",
    "    \"names\": [\"Red\", \"Yellow-Red\", \"Yellow\", \"Green-Yellow\", \"Green\",\n",
    "            \"Blue-Green\", \"Blue\", \"Purple-Blue\", \"Purple\", \"Red-Purple\"]\n",
    "}\n",
    "\n",
    "color_theory_df = pd.DataFrame(color_theory)\n",
    "\n",
    "color_theory_df"
   ]
  },
  {
   "cell_type": "code",
   "execution_count": 17,
   "id": "b1b35c3c-456b-4d8c-8cae-825f928ca875",
   "metadata": {},
   "outputs": [
    {
     "data": {
      "text/plain": [
       "0     R\n",
       "1    YR\n",
       "2     Y\n",
       "3    GY\n",
       "4     G\n",
       "5    BG\n",
       "6     B\n",
       "7    PB\n",
       "8     P\n",
       "9    RP\n",
       "Name: colors, dtype: object"
      ]
     },
     "execution_count": 17,
     "metadata": {},
     "output_type": "execute_result"
    }
   ],
   "source": [
    "# List specific column\n",
    "color_theory_df[\"colors\"]"
   ]
  },
  {
   "cell_type": "code",
   "execution_count": 18,
   "id": "c7cac97b-a31f-4f8a-8a47-96b10bd42c92",
   "metadata": {},
   "outputs": [
    {
     "data": {
      "text/plain": [
       "'GY'"
      ]
     },
     "execution_count": 18,
     "metadata": {},
     "output_type": "execute_result"
    }
   ],
   "source": [
    "# List specific entry within column\n",
    "color_theory_df.at[3, \"colors\"]"
   ]
  },
  {
   "cell_type": "code",
   "execution_count": null,
   "id": "e39b71cf-d5f2-4dd1-a86e-dc10d70ad8db",
   "metadata": {},
   "outputs": [],
   "source": []
  }
 ],
 "metadata": {
  "kernelspec": {
   "display_name": "Python 3 (ipykernel)",
   "language": "python",
   "name": "python3"
  },
  "language_info": {
   "codemirror_mode": {
    "name": "ipython",
    "version": 3
   },
   "file_extension": ".py",
   "mimetype": "text/x-python",
   "name": "python",
   "nbconvert_exporter": "python",
   "pygments_lexer": "ipython3",
   "version": "3.9.7"
  }
 },
 "nbformat": 4,
 "nbformat_minor": 5
}
