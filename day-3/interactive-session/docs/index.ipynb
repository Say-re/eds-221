{
 "cells": [
  {
   "cell_type": "code",
   "execution_count": 22,
   "id": "179b09d2-8306-46bf-b69a-2d6fe6b4c344",
   "metadata": {},
   "outputs": [
    {
     "name": "stdout",
     "output_type": "stream",
     "text": [
      "False\n",
      "True\n"
     ]
    }
   ],
   "source": [
    "# Part 1: Store some variable values\n",
    "DEJ_weight = 44.55\n",
    "sparrow_weight = 200\n",
    "\n",
    "# Logical Expression Examples\n",
    "print(DEJ_weight > 100)\n",
    "print(DEJ_weight < sparrow_weight)"
   ]
  },
  {
   "cell_type": "code",
   "execution_count": 23,
   "id": "beaf9464-0d43-40a6-a6c6-ee7ae893a72b",
   "metadata": {},
   "outputs": [
    {
     "name": "stdout",
     "output_type": "stream",
     "text": [
      "Too much produce ordered!\n"
     ]
    }
   ],
   "source": [
    "# Part 2: Conditionals\n",
    "\n",
    "produce_count = 500\n",
    "\n",
    "if produce_count > 200:\n",
    "    print(\"Too much produce ordered!\")"
   ]
  },
  {
   "cell_type": "code",
   "execution_count": 24,
   "id": "25da54bf-bde3-4285-8eda-e38a4e64844e",
   "metadata": {},
   "outputs": [
    {
     "name": "stdout",
     "output_type": "stream",
     "text": [
      "We will need to be more aggressive than 30x30\n"
     ]
    }
   ],
   "source": [
    "conservation_initiatives = [\"30x30\", \"Blue Carbon Initiative\", \"50x50\"]\n",
    "if \"30\" in conservation_initiatives[0]:\n",
    "    print(\"We will need to be more aggressive than 30x30\")\n",
    "else:\n",
    "    print(\"This is a great program!\")"
   ]
  },
  {
   "cell_type": "code",
   "execution_count": 25,
   "id": "bd1fcbd5-c5ab-4935-a1f5-56a399ba7e52",
   "metadata": {},
   "outputs": [
    {
     "name": "stdout",
     "output_type": "stream",
     "text": [
      "The pacific wren is endangered!\n"
     ]
    }
   ],
   "source": [
    "pacific_wren_count = 300\n",
    "if (pacific_wren_count < 50):\n",
    "    print(\"The pacific wren is critically endagered!\")\n",
    "elif (pacific_wren_count < 500):\n",
    "      print(\"The pacific wren is endangered!\")"
   ]
  },
  {
   "cell_type": "code",
   "execution_count": 29,
   "id": "3c7985d7-c0b7-48e9-88c7-0229a38dde7d",
   "metadata": {},
   "outputs": [
    {
     "name": "stdout",
     "output_type": "stream",
     "text": [
      "You found the plant species, Norfolk pine\n",
      "You found the plant species, Western hemlock\n",
      "You found the plant species, Douglas fir\n",
      "You found the plant species, Sitka spruce\n"
     ]
    }
   ],
   "source": [
    "plant_species = [\"Norfolk pine\", \"Western hemlock\", \"Douglas fir\", \"Sitka spruce\"]\n",
    "for sp in plant_species:\n",
    "    print(\"You found the plant species, \" + sp)"
   ]
  },
  {
   "cell_type": "code",
   "execution_count": null,
   "id": "29c5be79-3dcf-4eee-b3e2-9fef5fa63832",
   "metadata": {},
   "outputs": [],
   "source": []
  }
 ],
 "metadata": {
  "kernelspec": {
   "display_name": "Python 3 (ipykernel)",
   "language": "python",
   "name": "python3"
  },
  "language_info": {
   "codemirror_mode": {
    "name": "ipython",
    "version": 3
   },
   "file_extension": ".py",
   "mimetype": "text/x-python",
   "name": "python",
   "nbconvert_exporter": "python",
   "pygments_lexer": "ipython3",
   "version": "3.9.7"
  }
 },
 "nbformat": 4,
 "nbformat_minor": 5
}
